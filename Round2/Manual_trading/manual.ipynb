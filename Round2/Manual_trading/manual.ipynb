{
 "cells": [
  {
   "cell_type": "code",
   "execution_count": 7,
   "metadata": {},
   "outputs": [],
   "source": [
    "import numpy as np\n",
    "seashell = 2000\n",
    "exchange_rate = np.array([[1, 0.48, 1.52, 0.71], [2.05, 1, 3.26, 1.56], [0.64, 0.3, 1, 0.46], [1.41, 0.61, 2.08, 1]])"
   ]
  },
  {
   "cell_type": "code",
   "execution_count": 94,
   "metadata": {},
   "outputs": [
    {
     "data": {
      "text/plain": [
       "array([[1.  , 0.48, 1.52, 0.71],\n",
       "       [2.05, 1.  , 3.26, 1.56],\n",
       "       [0.64, 0.3 , 1.  , 0.46],\n",
       "       [1.41, 0.61, 2.08, 1.  ]])"
      ]
     },
     "execution_count": 94,
     "metadata": {},
     "output_type": "execute_result"
    }
   ],
   "source": [
    "exchange_rate"
   ]
  },
  {
   "cell_type": "code",
   "execution_count": 105,
   "metadata": {},
   "outputs": [],
   "source": [
    "trade_2 = []\n",
    "for i in range(3):\n",
    "    multiplier1 = exchange_rate[3,i]\n",
    "    trade_2.append([[3,i,3], multiplier1*exchange_rate[i,3]])"
   ]
  },
  {
   "cell_type": "code",
   "execution_count": 106,
   "metadata": {},
   "outputs": [
    {
     "data": {
      "text/plain": [
       "[[[3, 0, 3], 1.0010999999999999],\n",
       " [[3, 1, 3], 0.9516],\n",
       " [[3, 2, 3], 0.9568000000000001]]"
      ]
     },
     "execution_count": 106,
     "metadata": {},
     "output_type": "execute_result"
    }
   ],
   "source": [
    "trade_2"
   ]
  },
  {
   "cell_type": "code",
   "execution_count": 103,
   "metadata": {},
   "outputs": [],
   "source": [
    "trade_3 = []\n",
    "for i in range(3):\n",
    "    multiplier1 = exchange_rate[3,i]\n",
    "    for j in range(4):\n",
    "        if j != i and j != 3:\n",
    "            multiplier2 = exchange_rate[i,j]\n",
    "            trade_3.append([[3,i,j,3], multiplier1*multiplier2*exchange_rate[j,3]])\n",
    "            \n"
   ]
  },
  {
   "cell_type": "code",
   "execution_count": 104,
   "metadata": {},
   "outputs": [
    {
     "data": {
      "text/plain": [
       "[[[3, 0, 1, 3], 1.055808],\n",
       " [[3, 0, 2, 3], 0.985872],\n",
       " [[3, 1, 0, 3], 0.887855],\n",
       " [[3, 1, 2, 3], 0.914756],\n",
       " [[3, 2, 0, 3], 0.9451520000000001],\n",
       " [[3, 2, 1, 3], 0.9734400000000001]]"
      ]
     },
     "execution_count": 104,
     "metadata": {},
     "output_type": "execute_result"
    }
   ],
   "source": [
    "trade_3"
   ]
  },
  {
   "cell_type": "code",
   "execution_count": 125,
   "metadata": {},
   "outputs": [],
   "source": [
    "trade_4 = []\n",
    "for i in range(3):\n",
    "    multiplier1 = exchange_rate[3,i]\n",
    "    for j in range(4):\n",
    "        if j != i:\n",
    "            multiplier2 = exchange_rate[i,j]\n",
    "            for k in range(4):\n",
    "                if k != j and k != 3: \n",
    "                    multiplier3 = exchange_rate[j,k]\n",
    "                    trade_4.append([[3,i,j,k,3], multiplier1*multiplier2*multiplier3*exchange_rate[k,3]])\n",
    "            \n"
   ]
  },
  {
   "cell_type": "code",
   "execution_count": 128,
   "metadata": {},
   "outputs": [
    {
     "data": {
      "text/plain": [
       "[[[3, 0, 1, 0, 3], 0.9850823999999998],\n",
       " [[3, 0, 1, 2, 3], 1.01492928],\n",
       " [[3, 0, 2, 0, 3], 0.97387008],\n",
       " [[3, 0, 2, 1, 3], 1.0030175999999997],\n",
       " [[3, 0, 3, 0, 3], 1.0022012099999997],\n",
       " [[3, 0, 3, 1, 3], 0.9526467599999999],\n",
       " [[3, 0, 3, 2, 3], 0.9578524799999999],\n",
       " [[3, 1, 0, 1, 3], 0.9363744],\n",
       " [[3, 1, 0, 2, 3], 0.8743496000000001],\n",
       " [[3, 1, 2, 0, 3], 0.90361984],\n",
       " [[3, 1, 2, 1, 3], 0.9306648000000001],\n",
       " [[3, 1, 3, 0, 3], 0.9526467599999999],\n",
       " [[3, 1, 3, 1, 3], 0.90554256],\n",
       " [[3, 1, 3, 2, 3], 0.91049088],\n",
       " [[3, 2, 0, 1, 3], 0.9968025600000002],\n",
       " [[3, 2, 0, 2, 3], 0.9307750400000002],\n",
       " [[3, 2, 1, 0, 3], 0.9082319999999999],\n",
       " [[3, 2, 1, 2, 3], 0.9357504000000001],\n",
       " [[3, 2, 3, 0, 3], 0.95785248],\n",
       " [[3, 2, 3, 1, 3], 0.9104908800000001],\n",
       " [[3, 2, 3, 2, 3], 0.9154662400000002]]"
      ]
     },
     "execution_count": 128,
     "metadata": {},
     "output_type": "execute_result"
    }
   ],
   "source": [
    "trade_4"
   ]
  },
  {
   "cell_type": "code",
   "execution_count": 129,
   "metadata": {},
   "outputs": [],
   "source": [
    "trade_5 = []\n",
    "for i in range(3):\n",
    "    multiplier1 = exchange_rate[3,i]\n",
    "    for j in range(4):\n",
    "        if j != i:\n",
    "            multiplier2 = exchange_rate[i,j]\n",
    "            for k in range(4):\n",
    "                if k != j: \n",
    "                    multiplier3 = exchange_rate[j,k]\n",
    "                    for w in range(4):\n",
    "                        if w != k and w != 3:\n",
    "                            multiplier4 = exchange_rate[k,w]\n",
    "                            trade_5.append([[3,i,j,k,w,3], multiplier1*multiplier2*multiplier3*multiplier4*exchange_rate[w,3]])"
   ]
  },
  {
   "cell_type": "code",
   "execution_count": 133,
   "metadata": {},
   "outputs": [
    {
     "data": {
      "text/plain": [
       "60"
      ]
     },
     "execution_count": 133,
     "metadata": {},
     "output_type": "execute_result"
    }
   ],
   "source": [
    "len(trade_5)"
   ]
  },
  {
   "cell_type": "code",
   "execution_count": 131,
   "metadata": {},
   "outputs": [],
   "source": [
    "trade_simulations = trade_2 + trade_3 + trade_4 + trade_5"
   ]
  },
  {
   "cell_type": "code",
   "execution_count": 141,
   "metadata": {},
   "outputs": [
    {
     "data": {
      "text/plain": [
       "[[[3, 0, 3], 1.0010999999999999],\n",
       " [[3, 1, 3], 0.9516],\n",
       " [[3, 2, 3], 0.9568000000000001],\n",
       " [[3, 0, 1, 3], 1.055808],\n",
       " [[3, 0, 2, 3], 0.985872],\n",
       " [[3, 1, 0, 3], 0.887855],\n",
       " [[3, 1, 2, 3], 0.914756],\n",
       " [[3, 2, 0, 3], 0.9451520000000001],\n",
       " [[3, 2, 1, 3], 0.9734400000000001],\n",
       " [[3, 0, 1, 0, 3], 0.9850823999999998],\n",
       " [[3, 0, 1, 2, 3], 1.01492928],\n",
       " [[3, 0, 2, 0, 3], 0.97387008],\n",
       " [[3, 0, 2, 1, 3], 1.0030175999999997],\n",
       " [[3, 0, 3, 0, 3], 1.0022012099999997],\n",
       " [[3, 0, 3, 1, 3], 0.9526467599999999],\n",
       " [[3, 0, 3, 2, 3], 0.9578524799999999],\n",
       " [[3, 1, 0, 1, 3], 0.9363744],\n",
       " [[3, 1, 0, 2, 3], 0.8743496000000001],\n",
       " [[3, 1, 2, 0, 3], 0.90361984],\n",
       " [[3, 1, 2, 1, 3], 0.9306648000000001],\n",
       " [[3, 1, 3, 0, 3], 0.9526467599999999],\n",
       " [[3, 1, 3, 1, 3], 0.90554256],\n",
       " [[3, 1, 3, 2, 3], 0.91049088],\n",
       " [[3, 2, 0, 1, 3], 0.9968025600000002],\n",
       " [[3, 2, 0, 2, 3], 0.9307750400000002],\n",
       " [[3, 2, 1, 0, 3], 0.9082319999999999],\n",
       " [[3, 2, 1, 2, 3], 0.9357504000000001],\n",
       " [[3, 2, 3, 0, 3], 0.95785248],\n",
       " [[3, 2, 3, 1, 3], 0.9104908800000001],\n",
       " [[3, 2, 3, 2, 3], 0.9154662400000002],\n",
       " [[3, 0, 1, 0, 1, 3], 1.0389150719999998],\n",
       " [[3, 0, 1, 0, 2, 3], 0.9700980479999999],\n",
       " [[3, 0, 1, 2, 0, 3], 1.0025736191999999],\n",
       " [[3, 0, 1, 2, 1, 3], 1.032580224],\n",
       " [[3, 0, 1, 3, 0, 3], 1.0569693888],\n",
       " [[3, 0, 1, 3, 1, 3], 1.0047068928],\n",
       " [[3, 0, 1, 3, 2, 3], 1.0101970944000003],\n",
       " [[3, 0, 2, 0, 1, 3], 1.0270900224],\n",
       " [[3, 0, 2, 0, 2, 3], 0.9590562816],\n",
       " [[3, 0, 2, 1, 0, 3], 0.9358282799999996],\n",
       " [[3, 0, 2, 1, 2, 3], 0.9641828159999997],\n",
       " [[3, 0, 2, 3, 0, 3], 0.9869564591999997],\n",
       " [[3, 0, 2, 3, 1, 3], 0.9381557952],\n",
       " [[3, 0, 2, 3, 2, 3], 0.9432823296],\n",
       " [[3, 0, 3, 0, 1, 3], 1.0569693887999998],\n",
       " [[3, 0, 3, 0, 2, 3], 0.9869564591999999],\n",
       " [[3, 0, 3, 1, 0, 3], 0.8888316404999999],\n",
       " [[3, 0, 3, 1, 2, 3], 0.9157622315999999],\n",
       " [[3, 0, 3, 2, 0, 3], 0.9461916671999999],\n",
       " [[3, 0, 3, 2, 1, 3], 0.9745107839999998],\n",
       " [[3, 1, 0, 1, 0, 3], 0.87364932],\n",
       " [[3, 1, 0, 1, 2, 3], 0.900119904],\n",
       " [[3, 1, 0, 2, 0, 3], 0.863705344],\n",
       " [[3, 1, 0, 2, 1, 3], 0.88955568],\n",
       " [[3, 1, 0, 3, 0, 3], 0.8888316404999999],\n",
       " [[3, 1, 0, 3, 1, 3], 0.8448828179999999],\n",
       " [[3, 1, 0, 3, 2, 3], 0.849499664],\n",
       " [[3, 1, 2, 0, 1, 3], 0.9530007552],\n",
       " [[3, 1, 2, 0, 2, 3], 0.8898746368000001],\n",
       " [[3, 1, 2, 1, 0, 3], 0.8683221899999999],\n",
       " [[3, 1, 2, 1, 2, 3], 0.894631368],\n",
       " [[3, 1, 2, 3, 0, 3], 0.9157622315999999],\n",
       " [[3, 1, 2, 3, 1, 3], 0.8704818096],\n",
       " [[3, 1, 2, 3, 2, 3], 0.8752385408000001],\n",
       " [[3, 1, 3, 0, 1, 3], 1.0047068928],\n",
       " [[3, 1, 3, 0, 2, 3], 0.9381557952000001],\n",
       " [[3, 1, 3, 1, 0, 3], 0.8448828179999999],\n",
       " [[3, 1, 3, 1, 2, 3], 0.8704818096],\n",
       " [[3, 1, 3, 2, 0, 3], 0.8994066432],\n",
       " [[3, 1, 3, 2, 1, 3], 0.9263255039999999],\n",
       " [[3, 2, 0, 1, 0, 3], 0.930029568],\n",
       " [[3, 2, 0, 1, 2, 3], 0.9582084096000001],\n",
       " [[3, 2, 0, 2, 0, 3], 0.9194438656000001],\n",
       " [[3, 2, 0, 2, 1, 3], 0.9469624320000002],\n",
       " [[3, 2, 0, 3, 0, 3], 0.9461916672],\n",
       " [[3, 2, 0, 3, 1, 3], 0.8994066432000001],\n",
       " [[3, 2, 0, 3, 2, 3], 0.9043214336000002],\n",
       " [[3, 2, 1, 0, 1, 3], 0.9578649599999999],\n",
       " [[3, 2, 1, 0, 2, 3], 0.89441664],\n",
       " [[3, 2, 1, 2, 0, 3], 0.924358656],\n",
       " [[3, 2, 1, 2, 1, 3], 0.95202432],\n",
       " [[3, 2, 1, 3, 0, 3], 0.9745107839999999],\n",
       " [[3, 2, 1, 3, 1, 3], 0.9263255040000001],\n",
       " [[3, 2, 1, 3, 2, 3], 0.9313873920000002],\n",
       " [[3, 2, 3, 0, 1, 3], 1.0101970944],\n",
       " [[3, 2, 3, 0, 2, 3], 0.9432823296],\n",
       " [[3, 2, 3, 1, 0, 3], 0.8494996639999999],\n",
       " [[3, 2, 3, 1, 2, 3], 0.8752385408000001],\n",
       " [[3, 2, 3, 2, 0, 3], 0.9043214336000001],\n",
       " [[3, 2, 3, 2, 1, 3], 0.9313873920000002]]"
      ]
     },
     "execution_count": 141,
     "metadata": {},
     "output_type": "execute_result"
    }
   ],
   "source": [
    "trade_simulations"
   ]
  },
  {
   "cell_type": "code",
   "execution_count": 142,
   "metadata": {},
   "outputs": [],
   "source": [
    "exchange_price = []\n",
    "for i,j in trade_simulations:\n",
    "    exchange_price.append(j)\n",
    "max_index = exchange_price.index(max(exchange_price))"
   ]
  },
  {
   "cell_type": "code",
   "execution_count": 164,
   "metadata": {},
   "outputs": [
    {
     "name": "stdout",
     "output_type": "stream",
     "text": [
      "3 1.055808\n",
      "34 1.0569693888\n",
      "44 1.0569693887999998\n"
     ]
    }
   ],
   "source": [
    "win_money  = []\n",
    "for index,num in enumerate(exchange_price): \n",
    "    if num > 1.05:\n",
    "        print(index,num)"
   ]
  },
  {
   "cell_type": "code",
   "execution_count": 165,
   "metadata": {},
   "outputs": [
    {
     "data": {
      "text/plain": [
       "[[3, 0, 1, 3, 0, 3], 1.0569693888]"
      ]
     },
     "execution_count": 165,
     "metadata": {},
     "output_type": "execute_result"
    }
   ],
   "source": [
    "trade_simulations[34]"
   ]
  },
  {
   "cell_type": "code",
   "execution_count": 166,
   "metadata": {},
   "outputs": [
    {
     "data": {
      "text/plain": [
       "[[3, 0, 3, 0, 1, 3], 1.0569693887999998]"
      ]
     },
     "execution_count": 166,
     "metadata": {},
     "output_type": "execute_result"
    }
   ],
   "source": [
    "trade_simulations[44]"
   ]
  },
  {
   "cell_type": "code",
   "execution_count": 167,
   "metadata": {},
   "outputs": [
    {
     "data": {
      "text/plain": [
       "[[3, 0, 1, 3], 1.055808]"
      ]
     },
     "execution_count": 167,
     "metadata": {},
     "output_type": "execute_result"
    }
   ],
   "source": [
    "trade_simulations[3]"
   ]
  },
  {
   "cell_type": "code",
   "execution_count": null,
   "metadata": {},
   "outputs": [],
   "source": []
  },
  {
   "cell_type": "code",
   "execution_count": 162,
   "metadata": {},
   "outputs": [
    {
     "data": {
      "text/plain": [
       "[1.055808, 1.0569693888, 1.0569693887999998]"
      ]
     },
     "execution_count": 162,
     "metadata": {},
     "output_type": "execute_result"
    }
   ],
   "source": [
    "win_money"
   ]
  },
  {
   "cell_type": "code",
   "execution_count": 147,
   "metadata": {},
   "outputs": [
    {
     "data": {
      "text/plain": [
       "1.0010999999999999"
      ]
     },
     "execution_count": 147,
     "metadata": {},
     "output_type": "execute_result"
    }
   ],
   "source": [
    "exchange_price[0]"
   ]
  },
  {
   "cell_type": "code",
   "execution_count": 148,
   "metadata": {},
   "outputs": [
    {
     "data": {
      "text/plain": [
       "1.055808"
      ]
     },
     "execution_count": 148,
     "metadata": {},
     "output_type": "execute_result"
    }
   ],
   "source": [
    "exchange_price[3]"
   ]
  },
  {
   "cell_type": "code",
   "execution_count": 149,
   "metadata": {},
   "outputs": [
    {
     "data": {
      "text/plain": [
       "1.0569693888"
      ]
     },
     "execution_count": 149,
     "metadata": {},
     "output_type": "execute_result"
    }
   ],
   "source": [
    "exchange_price[34]"
   ]
  },
  {
   "cell_type": "code",
   "execution_count": 150,
   "metadata": {},
   "outputs": [
    {
     "data": {
      "text/plain": [
       "1.0569693888"
      ]
     },
     "execution_count": 150,
     "metadata": {},
     "output_type": "execute_result"
    }
   ],
   "source": [
    "max(exchange_price)"
   ]
  },
  {
   "cell_type": "code",
   "execution_count": 157,
   "metadata": {},
   "outputs": [
    {
     "name": "stdout",
     "output_type": "stream",
     "text": [
      "0 34\n",
      "1 233\n"
     ]
    }
   ],
   "source": [
    "for i,j in enumerate([34,233]):\n",
    "    print(i,j)"
   ]
  },
  {
   "cell_type": "code",
   "execution_count": 34,
   "metadata": {},
   "outputs": [],
   "source": [
    "exchange_rates_new = {\n",
    "    'P': {'W': 0.48, 'SB': 1.52, 'SS': 0.71},\n",
    "    'W': {'P': 2.05, 'SB': 3.26, 'SS': 1.56},\n",
    "    'SB': {'P': 0.64, 'W': 0.3, 'SS': 0.46},\n",
    "    'SS': {'P': 1.41, 'W': 0.61, 'SB': 2.08},\n",
    "}\n",
    "\n"
   ]
  },
  {
   "cell_type": "code",
   "execution_count": 90,
   "metadata": {},
   "outputs": [
    {
     "data": {
      "text/plain": [
       "'def single_trade(single_trade_record, start_currency): \\n    if len(single_trade_record[0]) == trade_num:\\n        trade_simulations.append(single_trade_record)\\n        single_trade_record = [[\"SS\"],1] \\n        \\n        start_currency = single_trade_record[0][-1]\\n        return single_trade(single_trade_record, start_currency)\\n    if len(trade_simulations) == 3 ** (trade_num-1):\\n        return\\n    for i,j in exchange_rates_new[start_currency].items(): \\n        single_trade_record[0].append(i)\\n        single_trade_record[1] *= j\\n        start_currency = single_trade_record[0][-1]\\n        return single_trade(single_trade_record, start_currency)'"
      ]
     },
     "execution_count": 90,
     "metadata": {},
     "output_type": "execute_result"
    }
   ],
   "source": [
    "trade_simulations_2 = []\n",
    "for i,j in exchange_rates_new[\"SS\"].items(): \n",
    "    single_trade_record = [[\"SS\"],1]\n",
    "    single_trade_record[0].append(i)\n",
    "    single_trade_record[1] *= j\n",
    "    single_trade_record[1] *= exchange_rates_new[j]\n",
    "    single_trade_record[0].append(\"SS\")\n",
    "    trade_simulations_2.append(single_trade_record)\n",
    "\n",
    "\n",
    "trade_simulations_3 = []\n",
    "for i,j in exchange_rates_new[\"SS\"].items(): \n",
    "    single_trade_record = [[\"SS\"],1]\n",
    "    single_trade_record[0].append(i)\n",
    "    single_trade_record[1] *= j\n",
    "    for i,j in exchange_rates_new[single_trade_record[0][-1]].items(): \n",
    "        single_trade_record_new = single_trade_record\n",
    "        single_trade_record_new[0].append(i)\n",
    "        single_trade_record_new[1] *= j\n",
    "        trade_simulations_3.append(single_trade_record_new)\n",
    "\n",
    "\n",
    "trade_simulations_4 = []\n",
    "trade_simulations_5 = []\n"
   ]
  },
  {
   "cell_type": "code",
   "execution_count": 91,
   "metadata": {},
   "outputs": [
    {
     "data": {
      "text/plain": [
       "[[['SS', 'P'], 1.41], [['SS', 'W'], 0.61], [['SS', 'SB'], 2.08]]"
      ]
     },
     "execution_count": 91,
     "metadata": {},
     "output_type": "execute_result"
    }
   ],
   "source": [
    "trade_simulations_2"
   ]
  },
  {
   "cell_type": "code",
   "execution_count": 92,
   "metadata": {},
   "outputs": [
    {
     "data": {
      "text/plain": [
       "[[['SS', 'P', 'W', 'SB', 'SS'], 0.7304025599999999],\n",
       " [['SS', 'P', 'W', 'SB', 'SS'], 0.7304025599999999],\n",
       " [['SS', 'P', 'W', 'SB', 'SS'], 0.7304025599999999],\n",
       " [['SS', 'W', 'P', 'SB', 'SS'], 6.3595428],\n",
       " [['SS', 'W', 'P', 'SB', 'SS'], 6.3595428],\n",
       " [['SS', 'W', 'P', 'SB', 'SS'], 6.3595428],\n",
       " [['SS', 'SB', 'P', 'W', 'SS'], 0.18370560000000002],\n",
       " [['SS', 'SB', 'P', 'W', 'SS'], 0.18370560000000002],\n",
       " [['SS', 'SB', 'P', 'W', 'SS'], 0.18370560000000002]]"
      ]
     },
     "execution_count": 92,
     "metadata": {},
     "output_type": "execute_result"
    }
   ],
   "source": [
    "trade_simulations_3"
   ]
  },
  {
   "cell_type": "code",
   "execution_count": null,
   "metadata": {},
   "outputs": [],
   "source": []
  }
 ],
 "metadata": {
  "kernelspec": {
   "display_name": "base",
   "language": "python",
   "name": "python3"
  },
  "language_info": {
   "codemirror_mode": {
    "name": "ipython",
    "version": 3
   },
   "file_extension": ".py",
   "mimetype": "text/x-python",
   "name": "python",
   "nbconvert_exporter": "python",
   "pygments_lexer": "ipython3",
   "version": "3.8.5"
  }
 },
 "nbformat": 4,
 "nbformat_minor": 2
}
